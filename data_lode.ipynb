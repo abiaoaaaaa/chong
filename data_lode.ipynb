{
 "cells": [
  {
   "cell_type": "code",
   "execution_count": 1,
   "id": "initial_id",
   "metadata": {
    "collapsed": true,
    "ExecuteTime": {
     "end_time": "2024-08-12T07:49:48.973701400Z",
     "start_time": "2024-08-12T07:49:48.670598Z"
    }
   },
   "outputs": [
    {
     "name": "stdout",
     "output_type": "stream",
     "text": [
      "data_50.csv 内容：\n",
      "   40.619935  -73.908708\n",
      "0  40.663012  -73.962211\n",
      "1  40.619318  -73.920946\n",
      "2  40.666382  -73.883617\n",
      "3  40.592947  -73.993383\n",
      "4  40.653041  -73.889844\n",
      "\n",
      "distance_50.csv 内容：\n",
      "          0  6.585234112  1.037807079  5.577401321  7.767762356  4.007734709  \\\n",
      "0  6.585234     0.000000     5.977209     6.656445     8.215329     6.219329   \n",
      "1  1.037807     5.977209     0.000000     6.106116     6.794131     4.576736   \n",
      "2  5.577401     6.656445     6.106116     0.000000    12.358876     1.572289   \n",
      "3  7.767762     8.215329     6.794131    12.358876     0.000000    11.012823   \n",
      "4  4.007735     6.219329     4.576736     1.572289    11.012823     0.000000   \n",
      "\n",
      "   7.791864583  5.588730727  5.402559766  21.12865024  ...  23.19453954  \\\n",
      "0     8.173058     6.676099     6.802015    16.530794  ...    18.173296   \n",
      "1     6.814431     6.119805     5.970818    21.141463  ...    23.129151   \n",
      "2    12.356832     0.019901     0.301614    16.347189  ...    18.638522   \n",
      "3     0.081248    12.376284    12.308385    24.682030  ...    26.181172   \n",
      "4    11.016470     1.582870     1.399893    17.688003  ...    19.915122   \n",
      "\n",
      "   2.524375445  11.16467204  10.80324639  9.823229013  4.029059727  \\\n",
      "0     5.523033     4.580302     8.404944     3.258257     4.633723   \n",
      "1     2.968010    10.524565     9.765518     9.235460     4.237896   \n",
      "2     3.138124    10.285770    14.218789     8.840069     2.361858   \n",
      "3     9.412643    11.041487     4.197964    10.455058    10.068229   \n",
      "4     1.630149    10.314672    13.164624     8.852993     1.587722   \n",
      "\n",
      "   10.12687088  6.473970415  10.8353294  3.660325474  \n",
      "0     7.225859     2.639098    5.169374     6.130660  \n",
      "1     9.093496     5.570077   10.533493     4.232899  \n",
      "2    13.204791     8.475017    8.005400     1.918121  \n",
      "3     4.365761     5.687643   13.258238    10.701534  \n",
      "4    12.219386     7.623167    8.602642     0.347976  \n",
      "\n",
      "[5 rows x 50 columns]\n",
      "\n",
      "roads_50.csv 内容：\n",
      "   0  0.1  0.2  0.3  0.4  1  0.5  1.1  1.2  0.6  ...  0.34  1.6  0.35  1.7  \\\n",
      "0  0    0    0    0    0  0    1    1    0    0  ...     0    1     0    0   \n",
      "1  0    0    0    1    0  0    1    0    0    0  ...     0    1     1    0   \n",
      "2  0    0    1    0    1  0    1    0    0    0  ...     0    0     1    1   \n",
      "3  0    0    0    1    0  1    0    0    0    0  ...     0    0     1    0   \n",
      "4  1    0    0    0    1  0    1    0    0    0  ...     0    1     0    0   \n",
      "\n",
      "   0.36  0.37  0.38  1.8  0.39  1.9  \n",
      "0     1     0     0    0     0    0  \n",
      "1     0     0     0    1     0    0  \n",
      "2     0     0     0    0     1    0  \n",
      "3     0     1     1    0     0    1  \n",
      "4     0     0     0    0     1    0  \n",
      "\n",
      "[5 rows x 50 columns]\n",
      "\n",
      "speed_50.csv 内容：\n",
      "    0  49  36  36.1  54  43  45  30  30.1  58  ...  54.3  51  34  57  55.2  \\\n",
      "0  49   0  36    51  56  39  42  49    50  38  ...    60  34  44  44    30   \n",
      "1  36  36   0    50  58  54  45  34    33  45  ...    45  52  47  59    32   \n",
      "2  36  51  50     0  59  51  38  43    36  52  ...    60  36  41  44    44   \n",
      "3  54  56  58    59   0  35  55  34    36  49  ...    56  56  57  37    38   \n",
      "4  43  39  54    51  35   0  59  30    36  38  ...    43  56  32  31    48   \n",
      "\n",
      "   51.1  32  35.2  41.2  33.1  \n",
      "0    30  32    33    59    47  \n",
      "1    39  54    55    48    42  \n",
      "2    47  48    59    30    38  \n",
      "3    59  37    42    46    59  \n",
      "4    31  56    56    35    48  \n",
      "\n",
      "[5 rows x 50 columns]\n",
      "\n",
      "EVs_50.csv 内容：\n",
      "   40.675641  -73.949958  40.826407  -73.950176  34   97  1.791736114  12\n",
      "0  40.676817  -73.899659  40.881062  -73.908689  47  100     1.934729  14\n",
      "1  40.878642  -73.871581  40.809653  -73.928362  40   88     1.757860  12\n",
      "2  40.642979  -73.978999  40.881062  -73.908689  40   81     1.466165  13\n",
      "3  40.664052  -73.881784  40.826407  -73.950176  41   95     1.698382  13\n",
      "4  40.840268  -73.843224  40.656215  -73.908149  48  100     1.622467  13\n"
     ]
    }
   ],
   "source": [
    "import pandas as pd\n",
    "\n",
    "# 读取 CSV 文件到 DataFrame\n",
    "data_50 = pd.read_csv('data/data_50.csv')\n",
    "# 50 个公共巴士站点和公共巴士经过点的经度和纬度 40.663012  -73.962211  * 50\n",
    "distance_50 = pd.read_csv('data/distance_50.csv')\n",
    "#出了 50 个顶点组成的完全无向图中，连接任意两点边的长度（单位：km）,50*50\n",
    "roads_50 = pd.read_csv('data/roads_50.csv')\n",
    "#取值为 1 表示充电路段，取值为 0 表示普通路段。50*50\n",
    "speed_50 = pd.read_csv('data/speed_50.csv')\n",
    "#动车在每条路段的行驶速度 50*50\n",
    "evs_50 = pd.read_csv('data/EVs_50.csv')\n",
    "#段：起点经度、起点纬度、终点经度、终点纬度、初始电量（kwh）、电池容量（kwh）、截止时间（hour）、行驶能耗（kwh/100km）；\n"
   ]
  },
  {
   "cell_type": "code",
   "execution_count": 4,
   "outputs": [
    {
     "name": "stdout",
     "output_type": "stream",
     "text": [
      "   初始电量  电池容量      截止时间  行驶能耗  起点编号  终点编号\n",
      "0    34    97  1.791736    12    26    40\n",
      "1    47   100  1.934729    14    28    10\n",
      "2    40    88  1.757860    12    17    37\n",
      "3    40    81  1.466165    13    47    10\n",
      "4    41    95  1.698382    13     8    40\n"
     ]
    },
    {
     "ename": "KeyError",
     "evalue": "0",
     "output_type": "error",
     "traceback": [
      "\u001B[1;31m---------------------------------------------------------------------------\u001B[0m",
      "\u001B[1;31mKeyError\u001B[0m                                  Traceback (most recent call last)",
      "File \u001B[1;32mC:\\ProgramData\\anaconda3\\envs\\UAV\\lib\\site-packages\\pandas\\core\\indexes\\base.py:3653\u001B[0m, in \u001B[0;36mIndex.get_loc\u001B[1;34m(self, key)\u001B[0m\n\u001B[0;32m   3652\u001B[0m \u001B[38;5;28;01mtry\u001B[39;00m:\n\u001B[1;32m-> 3653\u001B[0m     \u001B[38;5;28;01mreturn\u001B[39;00m \u001B[38;5;28;43mself\u001B[39;49m\u001B[38;5;241;43m.\u001B[39;49m\u001B[43m_engine\u001B[49m\u001B[38;5;241;43m.\u001B[39;49m\u001B[43mget_loc\u001B[49m\u001B[43m(\u001B[49m\u001B[43mcasted_key\u001B[49m\u001B[43m)\u001B[49m\n\u001B[0;32m   3654\u001B[0m \u001B[38;5;28;01mexcept\u001B[39;00m \u001B[38;5;167;01mKeyError\u001B[39;00m \u001B[38;5;28;01mas\u001B[39;00m err:\n",
      "File \u001B[1;32mC:\\ProgramData\\anaconda3\\envs\\UAV\\lib\\site-packages\\pandas\\_libs\\index.pyx:147\u001B[0m, in \u001B[0;36mpandas._libs.index.IndexEngine.get_loc\u001B[1;34m()\u001B[0m\n",
      "File \u001B[1;32mC:\\ProgramData\\anaconda3\\envs\\UAV\\lib\\site-packages\\pandas\\_libs\\index.pyx:176\u001B[0m, in \u001B[0;36mpandas._libs.index.IndexEngine.get_loc\u001B[1;34m()\u001B[0m\n",
      "File \u001B[1;32mpandas\\_libs\\hashtable_class_helper.pxi:7080\u001B[0m, in \u001B[0;36mpandas._libs.hashtable.PyObjectHashTable.get_item\u001B[1;34m()\u001B[0m\n",
      "File \u001B[1;32mpandas\\_libs\\hashtable_class_helper.pxi:7088\u001B[0m, in \u001B[0;36mpandas._libs.hashtable.PyObjectHashTable.get_item\u001B[1;34m()\u001B[0m\n",
      "\u001B[1;31mKeyError\u001B[0m: 0",
      "\nThe above exception was the direct cause of the following exception:\n",
      "\u001B[1;31mKeyError\u001B[0m                                  Traceback (most recent call last)",
      "Cell \u001B[1;32mIn[4], line 25\u001B[0m\n\u001B[0;32m     23\u001B[0m \u001B[38;5;66;03m# 显示处理后的数据\u001B[39;00m\n\u001B[0;32m     24\u001B[0m \u001B[38;5;28mprint\u001B[39m(evs_50\u001B[38;5;241m.\u001B[39mhead())\n\u001B[1;32m---> 25\u001B[0m \u001B[38;5;28mprint\u001B[39m(\u001B[43mevs_50\u001B[49m\u001B[43m[\u001B[49m\u001B[38;5;241;43m0\u001B[39;49m\u001B[43m]\u001B[49m)\n",
      "File \u001B[1;32mC:\\ProgramData\\anaconda3\\envs\\UAV\\lib\\site-packages\\pandas\\core\\frame.py:3761\u001B[0m, in \u001B[0;36mDataFrame.__getitem__\u001B[1;34m(self, key)\u001B[0m\n\u001B[0;32m   3759\u001B[0m \u001B[38;5;28;01mif\u001B[39;00m \u001B[38;5;28mself\u001B[39m\u001B[38;5;241m.\u001B[39mcolumns\u001B[38;5;241m.\u001B[39mnlevels \u001B[38;5;241m>\u001B[39m \u001B[38;5;241m1\u001B[39m:\n\u001B[0;32m   3760\u001B[0m     \u001B[38;5;28;01mreturn\u001B[39;00m \u001B[38;5;28mself\u001B[39m\u001B[38;5;241m.\u001B[39m_getitem_multilevel(key)\n\u001B[1;32m-> 3761\u001B[0m indexer \u001B[38;5;241m=\u001B[39m \u001B[38;5;28;43mself\u001B[39;49m\u001B[38;5;241;43m.\u001B[39;49m\u001B[43mcolumns\u001B[49m\u001B[38;5;241;43m.\u001B[39;49m\u001B[43mget_loc\u001B[49m\u001B[43m(\u001B[49m\u001B[43mkey\u001B[49m\u001B[43m)\u001B[49m\n\u001B[0;32m   3762\u001B[0m \u001B[38;5;28;01mif\u001B[39;00m is_integer(indexer):\n\u001B[0;32m   3763\u001B[0m     indexer \u001B[38;5;241m=\u001B[39m [indexer]\n",
      "File \u001B[1;32mC:\\ProgramData\\anaconda3\\envs\\UAV\\lib\\site-packages\\pandas\\core\\indexes\\base.py:3655\u001B[0m, in \u001B[0;36mIndex.get_loc\u001B[1;34m(self, key)\u001B[0m\n\u001B[0;32m   3653\u001B[0m     \u001B[38;5;28;01mreturn\u001B[39;00m \u001B[38;5;28mself\u001B[39m\u001B[38;5;241m.\u001B[39m_engine\u001B[38;5;241m.\u001B[39mget_loc(casted_key)\n\u001B[0;32m   3654\u001B[0m \u001B[38;5;28;01mexcept\u001B[39;00m \u001B[38;5;167;01mKeyError\u001B[39;00m \u001B[38;5;28;01mas\u001B[39;00m err:\n\u001B[1;32m-> 3655\u001B[0m     \u001B[38;5;28;01mraise\u001B[39;00m \u001B[38;5;167;01mKeyError\u001B[39;00m(key) \u001B[38;5;28;01mfrom\u001B[39;00m \u001B[38;5;21;01merr\u001B[39;00m\n\u001B[0;32m   3656\u001B[0m \u001B[38;5;28;01mexcept\u001B[39;00m \u001B[38;5;167;01mTypeError\u001B[39;00m:\n\u001B[0;32m   3657\u001B[0m     \u001B[38;5;66;03m# If we have a listlike key, _check_indexing_error will raise\u001B[39;00m\n\u001B[0;32m   3658\u001B[0m     \u001B[38;5;66;03m#  InvalidIndexError. Otherwise we fall through and re-raise\u001B[39;00m\n\u001B[0;32m   3659\u001B[0m     \u001B[38;5;66;03m#  the TypeError.\u001B[39;00m\n\u001B[0;32m   3660\u001B[0m     \u001B[38;5;28mself\u001B[39m\u001B[38;5;241m.\u001B[39m_check_indexing_error(key)\n",
      "\u001B[1;31mKeyError\u001B[0m: 0"
     ]
    }
   ],
   "source": [
    "# 读取 data_50.csv 文件，并手动设置列名\n",
    "data_50 = pd.read_csv('data/data_50.csv', header=None, names=['经度', '纬度'])\n",
    "\n",
    "# 读取 EVs_50.csv 文件，并手动设置列名\n",
    "evs_50 = pd.read_csv('data/EVs_50.csv', header=None, names=['起点经度', '起点纬度', '终点经度', '终点纬度', '初始电量', '电池容量', '截止时间', '行驶能耗'])\n",
    "\n",
    "# 为data_50增加一个编号列\n",
    "data_50['编号'] = range(len(data_50))\n",
    "\n",
    "# 将经纬度对与编号的对应关系转换为字典\n",
    "location_to_id = dict(zip(zip(data_50['经度'], data_50['纬度']), data_50['编号']))\n",
    "\n",
    "# 创建新的编号列\n",
    "evs_50['起点编号'] = evs_50.apply(lambda row: location_to_id.get((row['起点经度'], row['起点纬度'])), axis=1)\n",
    "evs_50['终点编号'] = evs_50.apply(lambda row: location_to_id.get((row['终点经度'], row['终点纬度'])), axis=1)\n",
    "\n",
    "# 删除原始经纬度列\n",
    "evs_50 = evs_50.drop(columns=['起点经度', '起点纬度', '终点经度', '终点纬度'])\n"
   ],
   "metadata": {
    "collapsed": false,
    "ExecuteTime": {
     "end_time": "2024-08-12T08:04:25.673450100Z",
     "start_time": "2024-08-12T08:04:25.604584400Z"
    }
   },
   "id": "677e74181ce16719"
  },
  {
   "cell_type": "code",
   "execution_count": null,
   "outputs": [],
   "source": [],
   "metadata": {
    "collapsed": false
   },
   "id": "f7c4bbd87e040dac"
  }
 ],
 "metadata": {
  "kernelspec": {
   "display_name": "Python 3",
   "language": "python",
   "name": "python3"
  },
  "language_info": {
   "codemirror_mode": {
    "name": "ipython",
    "version": 2
   },
   "file_extension": ".py",
   "mimetype": "text/x-python",
   "name": "python",
   "nbconvert_exporter": "python",
   "pygments_lexer": "ipython2",
   "version": "2.7.6"
  }
 },
 "nbformat": 4,
 "nbformat_minor": 5
}
