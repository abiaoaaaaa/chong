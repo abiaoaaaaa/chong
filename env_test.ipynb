{
 "cells": [
  {
   "cell_type": "markdown",
   "source": [
    "# 定义函数"
   ],
   "metadata": {
    "collapsed": false
   },
   "id": "7c0adb4a1ec6c7b4"
  },
  {
   "cell_type": "code",
   "execution_count": 7,
   "outputs": [],
   "source": [
    "import numpy as np\n",
    "# 假设你已经正确导入并定义了 ElectricVehicleEnv 环境\n",
    "from env import ElectricVehicleEnv\n",
    "'''\n",
    "测试环境文件编写是否符合逻辑\n",
    "'''\n",
    "\n",
    "def test_environment(env, num_steps=10, seed=42):\n",
    "    # 设置随机种子\n",
    "    np.random.seed(seed)\n",
    "    env.action_space.seed(seed)\n",
    "\n",
    "    # 重置环境以开始新的回合\n",
    "    state, info = env.reset()\n",
    "    print(state)\n",
    "    done = False\n",
    "\n",
    "    print(\"Initial State:\")\n",
    "    print_state(state)\n",
    "    #\n",
    "\n",
    "    # 进行一系列的随机动作，并打印每个step后的三要素\n",
    "    for step in range(num_steps):\n",
    "        if done:\n",
    "            print(\"Episode finished!\")\n",
    "            break\n",
    "\n",
    "        # 随机选择一个动作\n",
    "        action = env.action_space.sample()\n",
    "\n",
    "        # 执行该动作，并获取结果\n",
    "        state, reward, done, done1, info = env.step(action)\n",
    "        print(\"-\" * 30)\n",
    "        print(state)\n",
    "        print(f\"\\nStep {step + 1}:\")\n",
    "        if not done:\n",
    "            # 打印当前的状态、奖励、以及是否完成\n",
    "            print_step_details(info)\n",
    "        print_state(state)\n",
    "        print(\"Reward:\", reward)\n",
    "        print(\"Done:\", done)\n",
    "\n",
    "\n",
    "def print_state(state):\n",
    "    \"\"\"\n",
    "    打印状态的每个属性，并标注其含义。\n",
    "    \"\"\"\n",
    "    print(f\"  当前节点 (Current Node): {state[0]}\")\n",
    "    print(f\"  当前电池电量 (Battery): {state[1]}\")\n",
    "    print(f\"  剩余时间 (Remaining Time): {state[2]}\")\n",
    "    print(f\"  目标节点 (Target Node): {state[3]}\")\n",
    "\n",
    "\n",
    "def print_step_details(info):\n",
    "    \"\"\"\n",
    "    打印每个步骤的详细信息。\n",
    "    \"\"\"\n",
    "    print(f\"  从节点 (From Node): {info['from_node']} 到节点 (To Node): {info['to_node']}\")\n",
    "    print(f\"  距离缩短 (Distance_decrease): {info['distance_decrease']} km\")\n",
    "    print(f\"  耗电 (Energy Consumed): {info['energy_consumed']} kWh\")\n",
    "    print(f\"  是否充电 (Charging): {'Yes' if info['charging'] else 'No'}\")\n",
    "    if info['charging']:\n",
    "        print(f\"  充电量 (Energy Charged): {info['energy_charged']} kWh\")\n",
    "    print(f\"  电量从 (Battery Start): {info['battery_start']} kWh 变成 (Battery End): {info['battery_end']} kWh\")\n",
    "    print(f\"  剩余时间从 (Time Start): {info['time_start']} h 变成 (Time End): {info['time_end']} h\")"
   ],
   "metadata": {
    "collapsed": false,
    "ExecuteTime": {
     "end_time": "2024-08-31T16:57:10.124331Z",
     "start_time": "2024-08-31T16:57:10.111919300Z"
    }
   },
   "id": "eccaad6c607c7fee"
  },
  {
   "cell_type": "markdown",
   "source": [
    "# 随机测试"
   ],
   "metadata": {
    "collapsed": false
   },
   "id": "b5d7fc243b6b8536"
  },
  {
   "cell_type": "code",
   "execution_count": 8,
   "outputs": [
    {
     "name": "stdout",
     "output_type": "stream",
     "text": [
      "[26.       17.       44.793404 40.      ]\n",
      "Initial State:\n",
      "  当前节点 (Current Node): 26.0\n",
      "  当前电池电量 (Battery): 17.0\n",
      "  剩余时间 (Remaining Time): 44.79340362548828\n",
      "  目标节点 (Target Node): 40.0\n",
      "------------------------------\n",
      "[36.       15.621868 28.842798 40.      ]\n",
      "\n",
      "Step 1:\n",
      "  从节点 (From Node): 26 到节点 (To Node): 36\n",
      "  距离缩短 (Distance_decrease): 9.450091676 km\n",
      "  耗电 (Energy Consumed): 2.7562646148 kWh\n",
      "  是否充电 (Charging): No\n",
      "  电量从 (Battery Start): 34.0 kWh 变成 (Battery End): 31.2437353852 kWh\n",
      "  剩余时间从 (Time Start): 1.791736114 h 变成 (Time End): 1.1537118976111111 h\n",
      "  当前节点 (Current Node): 36.0\n",
      "  当前电池电量 (Battery): 15.621868133544922\n",
      "  剩余时间 (Remaining Time): 28.842798233032227\n",
      "  目标节点 (Target Node): 40.0\n",
      "Reward: -212.225361368\n",
      "Done: False\n",
      "------------------------------\n",
      "[ 2.        13.8900795  9.853895  40.       ]\n",
      "\n",
      "Step 2:\n",
      "  从节点 (From Node): 36 到节点 (To Node): 2\n",
      "  距离缩短 (Distance_decrease): -15.836803755999998 km\n",
      "  耗电 (Energy Consumed): 3.4635758148000004 kWh\n",
      "  是否充电 (Charging): No\n",
      "  电量从 (Battery Start): 31.2437353852 kWh 变成 (Battery End): 27.780159570400002 kWh\n",
      "  剩余时间从 (Time Start): 1.1537118976111111 h 变成 (Time End): 0.394155797874269 h\n",
      "  当前节点 (Current Node): 2.0\n",
      "  当前电池电量 (Battery): 13.890079498291016\n",
      "  剩余时间 (Remaining Time): 9.85389518737793\n",
      "  目标节点 (Target Node): 40.0\n",
      "Reward: -586.3992265520001\n",
      "Done: False\n",
      "------------------------------\n",
      "[22.       27.944483  2.564267 40.      ]\n",
      "\n",
      "Step 3:\n",
      "  从节点 (From Node): 2 到节点 (To Node): 22\n",
      "  距离缩短 (Distance_decrease): 3.5493395099999994 km\n",
      "  耗电 (Energy Consumed): 1.04970644196 kWh\n",
      "  是否充电 (Charging): Yes\n",
      "  充电量 (Energy Charged): 29.158512276666666 kWh\n",
      "  电量从 (Battery Start): 27.780159570400002 kWh 变成 (Battery End): 55.88896540510667 kWh\n",
      "  剩余时间从 (Time Start): 0.394155797874269 h 变成 (Time End): 0.10257067510760237 h\n",
      "  当前节点 (Current Node): 22.0\n",
      "  当前电池电量 (Battery): 27.944482803344727\n",
      "  剩余时间 (Remaining Time): 2.5642669200897217\n",
      "  目标节点 (Target Node): 40.0\n",
      "Reward: -110.70934642973765\n",
      "Done: False\n",
      "------------------------------\n",
      "[ 12.        26.344248 -13.698276  40.      ]\n",
      "\n",
      "Step 4:\n",
      "  当前节点 (Current Node): 12.0\n",
      "  当前电池电量 (Battery): 26.344247817993164\n",
      "  剩余时间 (Remaining Time): -13.698275566101074\n",
      "  目标节点 (Target Node): 40.0\n",
      "Reward: -8230.538086804\n",
      "Done: True\n",
      "Episode finished!\n"
     ]
    }
   ],
   "source": [
    "\n",
    "# 创建环境实例\n",
    "env = ElectricVehicleEnv()\n",
    "\n",
    "# 测试环境，执行10步随机动作\n",
    "test_environment(env, num_steps=10, seed=285)\n"
   ],
   "metadata": {
    "collapsed": false,
    "ExecuteTime": {
     "end_time": "2024-08-31T16:57:11.370901100Z",
     "start_time": "2024-08-31T16:57:11.342738300Z"
    }
   },
   "id": "initial_id"
  },
  {
   "cell_type": "code",
   "execution_count": null,
   "outputs": [],
   "source": [],
   "metadata": {
    "collapsed": false
   },
   "id": "a3002e525516d4e3"
  }
 ],
 "metadata": {
  "kernelspec": {
   "display_name": "Python 3",
   "language": "python",
   "name": "python3"
  },
  "language_info": {
   "codemirror_mode": {
    "name": "ipython",
    "version": 2
   },
   "file_extension": ".py",
   "mimetype": "text/x-python",
   "name": "python",
   "nbconvert_exporter": "python",
   "pygments_lexer": "ipython2",
   "version": "2.7.6"
  }
 },
 "nbformat": 4,
 "nbformat_minor": 5
}
