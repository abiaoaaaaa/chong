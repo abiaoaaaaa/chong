{
 "cells": [
  {
   "cell_type": "markdown",
   "source": [
    "# 定义函数"
   ],
   "metadata": {
    "collapsed": false
   },
   "id": "7c0adb4a1ec6c7b4"
  },
  {
   "cell_type": "code",
   "execution_count": null,
   "outputs": [],
   "source": [
    "import numpy as np\n",
    "# 假设你已经正确导入并定义了 ElectricVehicleEnv 环境\n",
    "from env import ElectricVehicleEnv\n",
    "'''\n",
    "测试环境文件编写是否符合逻辑\n",
    "'''\n",
    "\n",
    "def test_environment(env, num_steps=10, seed=42):\n",
    "    # 设置随机种子\n",
    "    np.random.seed(seed)\n",
    "    env.action_space.seed(seed)\n",
    "\n",
    "    # 重置环境以开始新的回合\n",
    "    state, info = env.reset()\n",
    "    done = False\n",
    "\n",
    "    print(\"Initial State:\")\n",
    "    print_state(state)\n",
    "    #\n",
    "\n",
    "    # 进行一系列的随机动作，并打印每个step后的三要素\n",
    "    for step in range(num_steps):\n",
    "        if done:\n",
    "            print(\"Episode finished!\")\n",
    "            break\n",
    "\n",
    "        # 随机选择一个动作\n",
    "        action = env.action_space.sample()\n",
    "\n",
    "        # 执行该动作，并获取结果\n",
    "        state, reward, done, done1, info = env.step(action)\n",
    "        print(\"-\" * 30)\n",
    "        print(f\"\\nStep {step + 1}:\")\n",
    "        if not done:\n",
    "            # 打印当前的状态、奖励、以及是否完成\n",
    "            print_step_details(info)\n",
    "        print_state(state)\n",
    "        print(\"Reward:\", reward)\n",
    "        print(\"Done:\", done)\n",
    "\n",
    "\n",
    "def print_state(state):\n",
    "    \"\"\"\n",
    "    打印状态的每个属性，并标注其含义。\n",
    "    \"\"\"\n",
    "    print(f\"  当前节点 (Current Node): {state[0]}\")\n",
    "    print(f\"  当前电池电量 (Battery): {state[1]}\")\n",
    "    print(f\"  剩余时间 (Remaining Time): {state[2]}\")\n",
    "    print(f\"  目标节点 (Target Node): {state[3]}\")\n",
    "\n",
    "\n",
    "def print_step_details(info):\n",
    "    \"\"\"\n",
    "    打印每个步骤的详细信息。\n",
    "    \"\"\"\n",
    "    print(f\"  从节点 (From Node): {info['from_node']} 到节点 (To Node): {info['to_node']}\")\n",
    "    print(f\"  距离缩短 (Distance_decrease): {info['distance_decrease']} km\")\n",
    "    print(f\"  耗电 (Energy Consumed): {info['energy_consumed']} kWh\")\n",
    "    print(f\"  是否充电 (Charging): {'Yes' if info['charging'] else 'No'}\")\n",
    "    if info['charging']:\n",
    "        print(f\"  充电量 (Energy Charged): {info['energy_charged']} kWh\")\n",
    "    print(f\"  电量从 (Battery Start): {info['battery_start']} kWh 变成 (Battery End): {info['battery_end']} kWh\")\n",
    "    print(f\"  剩余时间从 (Time Start): {info['time_start']} h 变成 (Time End): {info['time_end']} h\")"
   ],
   "metadata": {
    "collapsed": false,
    "is_executing": true
   },
   "id": "eccaad6c607c7fee"
  },
  {
   "cell_type": "markdown",
   "source": [
    "# 随机测试"
   ],
   "metadata": {
    "collapsed": false
   },
   "id": "b5d7fc243b6b8536"
  },
  {
   "cell_type": "code",
   "execution_count": null,
   "outputs": [],
   "source": [
    "\n",
    "# 创建环境实例\n",
    "env = ElectricVehicleEnv()\n",
    "\n",
    "# 测试环境，执行10步随机动作\n",
    "test_environment(env, num_steps=10, seed=42)\n"
   ],
   "metadata": {
    "collapsed": false,
    "is_executing": true
   },
   "id": "initial_id"
  },
  {
   "cell_type": "code",
   "execution_count": null,
   "outputs": [],
   "source": [],
   "metadata": {
    "collapsed": false
   },
   "id": "a3002e525516d4e3"
  }
 ],
 "metadata": {
  "kernelspec": {
   "display_name": "Python 3",
   "language": "python",
   "name": "python3"
  },
  "language_info": {
   "codemirror_mode": {
    "name": "ipython",
    "version": 2
   },
   "file_extension": ".py",
   "mimetype": "text/x-python",
   "name": "python",
   "nbconvert_exporter": "python",
   "pygments_lexer": "ipython2",
   "version": "2.7.6"
  }
 },
 "nbformat": 4,
 "nbformat_minor": 5
}
